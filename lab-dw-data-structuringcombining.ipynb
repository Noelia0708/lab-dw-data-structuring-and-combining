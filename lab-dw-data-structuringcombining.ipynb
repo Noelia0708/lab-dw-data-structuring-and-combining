{
 "cells": [
  {
   "cell_type": "markdown",
   "id": "25d7736c-ba17-4aff-b6bb-66eba20fbf4e",
   "metadata": {
    "id": "25d7736c-ba17-4aff-b6bb-66eba20fbf4e"
   },
   "source": [
    "# Lab | Data Structuring and Combining Data"
   ]
  },
  {
   "cell_type": "markdown",
   "id": "a2cdfc70-44c8-478c-81e7-2bc43fdf4986",
   "metadata": {
    "id": "a2cdfc70-44c8-478c-81e7-2bc43fdf4986"
   },
   "source": [
    "## Challenge 1: Combining & Cleaning Data\n",
    "\n",
    "In this challenge, we will be working with the customer data from an insurance company, as we did in the two previous labs. The data can be found here:\n",
    "- https://raw.githubusercontent.com/data-bootcamp-v4/data/main/file1.csv\n",
    "\n",
    "But this time, we got new data, which can be found in the following 2 CSV files located at the links below.\n",
    "\n",
    "- https://raw.githubusercontent.com/data-bootcamp-v4/data/main/file2.csv\n",
    "- https://raw.githubusercontent.com/data-bootcamp-v4/data/main/file3.csv\n",
    "\n",
    "Note that you'll need to clean and format the new data.\n",
    "\n",
    "Observation:\n",
    "- One option is to first combine the three datasets and then apply the cleaning function to the new combined dataset\n",
    "- Another option would be to read the clean file you saved in the previous lab, and just clean the two new files and concatenate the three clean datasets"
   ]
  },
  {
   "cell_type": "code",
   "execution_count": 1,
   "id": "492d06e3-92c7-4105-ac72-536db98d3244",
   "metadata": {
    "id": "492d06e3-92c7-4105-ac72-536db98d3244"
   },
   "outputs": [],
   "source": [
    "import pandas as pd\n",
    "import numpy as np"
   ]
  },
  {
   "cell_type": "code",
   "execution_count": 2,
   "id": "113d456c",
   "metadata": {},
   "outputs": [],
   "source": [
    "archivo1 = pd.read_csv('https://raw.githubusercontent.com/data-bootcamp-v4/data/main/file1.csv')\n",
    "archivo2 = pd.read_csv('https://raw.githubusercontent.com/data-bootcamp-v4/data/main/file2.csv')\n",
    "archivo3 = pd.read_csv('https://raw.githubusercontent.com/data-bootcamp-v4/data/main/file3.csv')"
   ]
  },
  {
   "cell_type": "code",
   "execution_count": null,
   "id": "7c943393",
   "metadata": {},
   "outputs": [],
   "source": [
    "archivo1.columns = archivo1.columns.str.lower()\n",
    "archivo2.columns = archivo2.columns.str.lower()\n",
    "archivo3.columns = archivo3.columns.str.lower()"
   ]
  },
  {
   "cell_type": "code",
   "execution_count": 3,
   "id": "e933b5c7",
   "metadata": {},
   "outputs": [],
   "source": [
    "data = pd.concat([archivo1, archivo2, archivo3], ignore_index=True)"
   ]
  },
  {
   "cell_type": "code",
   "execution_count": 4,
   "id": "d298c378",
   "metadata": {},
   "outputs": [],
   "source": [
    "for data in [archivo1, archivo2, archivo3]:\n",
    "    data.columns = data.columns.str.lower().str.replace(' ', '_')"
   ]
  },
  {
   "cell_type": "code",
   "execution_count": 5,
   "id": "4b54b4e6",
   "metadata": {},
   "outputs": [
    {
     "name": "stdout",
     "output_type": "stream",
     "text": [
      "Duplicados antes: 0\n",
      "Duplicados después: 0\n"
     ]
    }
   ],
   "source": [
    "print(\"Duplicados antes:\", data.duplicated().sum())\n",
    "\n",
    "data.drop_duplicates(inplace=True)\n",
    "\n",
    "print(\"Duplicados después:\", data.duplicated().sum())"
   ]
  },
  {
   "cell_type": "code",
   "execution_count": 6,
   "id": "3cee3f80",
   "metadata": {},
   "outputs": [],
   "source": [
    "data['gender'] = data['gender'].str.strip().str.lower()\n",
    "data['education'] = data['education'].str.strip().str.title()\n",
    "data['state'] = data['state'].str.strip().str.upper()\n",
    "data['policy_type'] = data['policy_type'].str.strip().str.title()\n",
    "data['vehicle_class'] = data['vehicle_class'].str.strip().str.title()"
   ]
  },
  {
   "cell_type": "code",
   "execution_count": 7,
   "id": "d60d84ff",
   "metadata": {},
   "outputs": [],
   "source": [
    "numeric_cols = ['customer_lifetime_value', 'income', 'monthly_premium_auto',\n",
    "                'number_of_open_complaints', 'total_claim_amount']\n",
    "\n",
    "data[numeric_cols] = data[numeric_cols].apply(pd.to_numeric, errors='coerce')"
   ]
  },
  {
   "cell_type": "code",
   "execution_count": 8,
   "id": "e28f8a8d",
   "metadata": {},
   "outputs": [
    {
     "name": "stdout",
     "output_type": "stream",
     "text": [
      "  customer       state  customer_lifetime_value             education gender  \\\n",
      "0  SA25987  WASHINGTON                  3479.14  High School Or Below      m   \n",
      "1  TB86706     ARIZONA                  2502.64                Master      m   \n",
      "2  ZL73902      NEVADA                  3265.16              Bachelor      f   \n",
      "3  KX23516  CALIFORNIA                  4455.84  High School Or Below      f   \n",
      "4  FN77294  CALIFORNIA                  7704.96  High School Or Below      m   \n",
      "\n",
      "   income  monthly_premium_auto  number_of_open_complaints    policy_type  \\\n",
      "0       0                   104                          0  Personal Auto   \n",
      "1       0                    66                          0  Personal Auto   \n",
      "2   25820                    82                          0  Personal Auto   \n",
      "3       0                   121                          0  Personal Auto   \n",
      "4   30366                   101                          2  Personal Auto   \n",
      "\n",
      "   total_claim_amount  vehicle_class  \n",
      "0              499.20   Two-Door Car  \n",
      "1                3.47   Two-Door Car  \n",
      "2              393.60  Four-Door Car  \n",
      "3              699.62            Suv  \n",
      "4              484.80            Suv  \n",
      "       customer_lifetime_value   income  monthly_premium_auto  \\\n",
      "count                  7070.00  7070.00               7070.00   \n",
      "mean                   8028.80 37333.86                 93.20   \n",
      "std                    6942.42 30349.88                 34.21   \n",
      "min                    1898.01     0.00                 61.00   \n",
      "25%                    3981.08     0.00                 68.00   \n",
      "50%                    5782.10 33557.50                 83.00   \n",
      "75%                    8989.99 61895.50                109.00   \n",
      "max                   83325.38 99961.00                298.00   \n",
      "\n",
      "       number_of_open_complaints  total_claim_amount  \n",
      "count                    7070.00             7070.00  \n",
      "mean                        0.38              436.22  \n",
      "std                         0.92              291.24  \n",
      "min                         0.00                0.10  \n",
      "25%                         0.00              274.37  \n",
      "50%                         0.00              386.03  \n",
      "75%                         0.00              552.00  \n",
      "max                         5.00             2759.79  \n"
     ]
    }
   ],
   "source": [
    "for col in ['customer_lifetime_value', 'total_claim_amount', 'customer_lifetime_value', 'income', 'monthly_premium_auto', 'number_of_open_complaints']:\n",
    "    data[col] = data[col].round(2)\n",
    "\n",
    "pd.options.display.float_format = '{:.2f}'.format\n",
    "\n",
    "print(data.head())\n",
    "print(data.describe())"
   ]
  },
  {
   "cell_type": "markdown",
   "id": "31b8a9e7-7db9-4604-991b-ef6771603e57",
   "metadata": {
    "id": "31b8a9e7-7db9-4604-991b-ef6771603e57"
   },
   "source": [
    "# Challenge 2: Structuring Data"
   ]
  },
  {
   "cell_type": "markdown",
   "id": "a877fd6d-7a0c-46d2-9657-f25036e4ca4b",
   "metadata": {
    "id": "a877fd6d-7a0c-46d2-9657-f25036e4ca4b"
   },
   "source": [
    "In this challenge, we will continue to work with customer data from an insurance company, but we will use a dataset with more columns, called marketing_customer_analysis.csv, which can be found at the following link:\n",
    "\n",
    "https://raw.githubusercontent.com/data-bootcamp-v4/data/main/marketing_customer_analysis_clean.csv\n",
    "\n",
    "This dataset contains information such as customer demographics, policy details, vehicle information, and the customer's response to the last marketing campaign. Our goal is to explore and analyze this data by performing data cleaning, formatting, and structuring."
   ]
  },
  {
   "cell_type": "code",
   "execution_count": 9,
   "id": "aa10d9b0-1c27-4d3f-a8e4-db6ab73bfd26",
   "metadata": {
    "id": "aa10d9b0-1c27-4d3f-a8e4-db6ab73bfd26"
   },
   "outputs": [],
   "source": [
    "# Cargar datos\n",
    "marketing_df = pd.read_csv('https://raw.githubusercontent.com/data-bootcamp-v4/data/main/marketing_customer_analysis_clean.csv')\n",
    "\n",
    "# Limpiar nombres de columnas\n",
    "marketing_df.columns = marketing_df.columns.str.lower().str.replace(' ', '_')\n",
    "\n",
    "# Normalizar columnas de texto\n",
    "text_cols = ['gender', 'education', 'sales_channel', 'policy_type', 'vehicle_class']\n",
    "for col in text_cols:\n",
    "    marketing_df[col] = marketing_df[col].str.strip().str.title()\n",
    "\n",
    "# Revisar duplicados\n",
    "marketing_df.drop_duplicates(inplace=True)"
   ]
  },
  {
   "cell_type": "markdown",
   "id": "df35fd0d-513e-4e77-867e-429da10a9cc7",
   "metadata": {
    "id": "df35fd0d-513e-4e77-867e-429da10a9cc7"
   },
   "source": [
    "1. You work at the marketing department and you want to know which sales channel brought the most sales in terms of total revenue. Using pivot, create a summary table showing the total revenue for each sales channel (branch, call center, web, and mail).\n",
    "Round the total revenue to 2 decimal points.  Analyze the resulting table to draw insights."
   ]
  },
  {
   "cell_type": "code",
   "execution_count": 10,
   "id": "17f48f2e",
   "metadata": {},
   "outputs": [
    {
     "name": "stdout",
     "output_type": "stream",
     "text": [
      "               total_claim_amount\n",
      "sales_channel                    \n",
      "Agent                  1810226.82\n",
      "Branch                 1301204.00\n",
      "Call Center             926600.82\n",
      "Web                     706600.04\n"
     ]
    }
   ],
   "source": [
    "# Pivot table: total revenue por canal\n",
    "pivot_channel = marketing_df.pivot_table(\n",
    "    index='sales_channel',\n",
    "    values='total_claim_amount',   # columna con ingresos/revenue\n",
    "    aggfunc='sum'\n",
    ").round(2).sort_values(by='total_claim_amount', ascending=False)\n",
    "\n",
    "print(pivot_channel)"
   ]
  },
  {
   "cell_type": "markdown",
   "id": "640993b2-a291-436c-a34d-a551144f8196",
   "metadata": {
    "id": "640993b2-a291-436c-a34d-a551144f8196"
   },
   "source": [
    "2. Create a pivot table that shows the average customer lifetime value per gender and education level. Analyze the resulting table to draw insights."
   ]
  },
  {
   "cell_type": "code",
   "execution_count": 11,
   "id": "55420086",
   "metadata": {},
   "outputs": [
    {
     "name": "stdout",
     "output_type": "stream",
     "text": [
      "education  Bachelor  College  Doctor  High School Or Below  Master\n",
      "gender                                                            \n",
      "F           7874.27  7748.82 7328.51               8675.22 8157.05\n",
      "M           7703.60  8052.46 7415.33               8149.69 8168.83\n"
     ]
    }
   ],
   "source": [
    "# Pivot table: promedio customer lifetime value\n",
    "pivot_ltv = marketing_df.pivot_table(\n",
    "    index='gender',\n",
    "    columns='education',\n",
    "    values='customer_lifetime_value',\n",
    "    aggfunc='mean'\n",
    ").round(2)\n",
    "\n",
    "print(pivot_ltv)"
   ]
  },
  {
   "cell_type": "markdown",
   "id": "32c7f2e5-3d90-43e5-be33-9781b6069198",
   "metadata": {
    "id": "32c7f2e5-3d90-43e5-be33-9781b6069198"
   },
   "source": [
    "## Bonus\n",
    "\n",
    "You work at the customer service department and you want to know which months had the highest number of complaints by policy type category. Create a summary table showing the number of complaints by policy type and month.\n",
    "Show it in a long format table."
   ]
  },
  {
   "cell_type": "markdown",
   "id": "e3d09a8f-953c-448a-a5f8-2e5a8cca7291",
   "metadata": {
    "id": "e3d09a8f-953c-448a-a5f8-2e5a8cca7291"
   },
   "source": [
    "*In data analysis, a long format table is a way of structuring data in which each observation or measurement is stored in a separate row of the table. The key characteristic of a long format table is that each column represents a single variable, and each row represents a single observation of that variable.*\n",
    "\n",
    "*More information about long and wide format tables here: https://www.statology.org/long-vs-wide-data/*"
   ]
  },
  {
   "cell_type": "code",
   "execution_count": null,
   "id": "3a069e0b-b400-470e-904d-d17582191be4",
   "metadata": {
    "id": "3a069e0b-b400-470e-904d-d17582191be4"
   },
   "outputs": [],
   "source": [
    "# Your code goes here"
   ]
  }
 ],
 "metadata": {
  "colab": {
   "provenance": []
  },
  "kernelspec": {
   "display_name": "Python 3",
   "language": "python",
   "name": "python3"
  },
  "language_info": {
   "codemirror_mode": {
    "name": "ipython",
    "version": 3
   },
   "file_extension": ".py",
   "mimetype": "text/x-python",
   "name": "python",
   "nbconvert_exporter": "python",
   "pygments_lexer": "ipython3",
   "version": "3.11.0"
  }
 },
 "nbformat": 4,
 "nbformat_minor": 5
}
